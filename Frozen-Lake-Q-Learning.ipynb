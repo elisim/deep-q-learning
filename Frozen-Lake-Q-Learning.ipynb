{
 "cells": [
  {
   "cell_type": "markdown",
   "metadata": {},
   "source": [
    "# Q-Learning Algoritm \n",
    "![image.png](attachment:image.png)"
   ]
  },
  {
   "cell_type": "code",
   "execution_count": 3,
   "metadata": {
    "pycharm": {
     "is_executing": false
    }
   },
   "outputs": [
    {
     "name": "stderr",
     "output_type": "stream",
     "text": [
      "/Users/avivbh/anaconda3/envs/RL_course/lib/python3.6/site-packages/gym/envs/registration.py:14: PkgResourcesDeprecationWarning: Parameters to load are deprecated.  Call .resolve and .require separately.\n",
      "  result = entry_point.load(False)\n"
     ]
    }
   ],
   "source": [
    "import gym\n",
    "import numpy as np\n",
    "import random\n",
    "from q_learning import *\n",
    "from IPython.display import clear_output\n",
    "\n",
    "\n",
    "frozen_lake_env = gym.make(\"FrozenLake-v0\").env"
   ]
  },
  {
   "cell_type": "code",
   "execution_count": 6,
   "metadata": {
    "pycharm": {
     "is_executing": false
    }
   },
   "outputs": [
    {
     "name": "stderr",
     "output_type": "stream",
     "text": [
      "100%|██████████| 10000/10000 [00:02<00:00, 4339.71it/s]"
     ]
    },
    {
     "name": "stdout",
     "output_type": "stream",
     "text": [
      "Training Done\n"
     ]
    },
    {
     "name": "stderr",
     "output_type": "stream",
     "text": [
      "\n"
     ]
    }
   ],
   "source": [
    "q_table, info = q_learning(env=frozen_lake_env,\n",
    "                     episodes=10000,\n",
    "                     steps_per_episode=100, \n",
    "                     epsilon=0.9,\n",
    "                     epsilon_decay=0.9999,\n",
    "                     alpha=0.2\n",
    "                     )\n",
    "print(\"Training Done\")"
   ]
  },
  {
   "cell_type": "code",
   "execution_count": 7,
   "metadata": {},
   "outputs": [
    {
     "name": "stdout",
     "output_type": "stream",
     "text": [
      "Results after 1000 episodes:\n",
      "good = 110\n",
      "bad = 890\n"
     ]
    }
   ],
   "source": [
    "import time\n",
    "episodes = 1000\n",
    "\n",
    "good, bad = 0,0\n",
    "for _ in range(episodes):\n",
    "    state = frozen_lake_env.reset()\n",
    "    done = False\n",
    "    \n",
    "    while not done:\n",
    "        action = np.argmax(q_table[state])\n",
    "        state, reward, done, _ = frozen_lake_env.step(action)\n",
    "#         clear_output(wait=True)\n",
    "#         time.sleep(1)\n",
    "#         env.render()\n",
    "        if done:\n",
    "            if reward > 0:\n",
    "#                 print(\"GOAL!\")\n",
    "                good += 1\n",
    "            else:\n",
    "#                 print(\"FALL!\")\n",
    "                bad += 1\n",
    "        \n",
    "print(f\"Results after {episodes} episodes:\")\n",
    "print(f\"good = {good}\")\n",
    "print(f\"bad = {bad}\")"
   ]
  },
  {
   "cell_type": "code",
   "execution_count": null,
   "metadata": {},
   "outputs": [],
   "source": []
  }
 ],
 "metadata": {
  "kernelspec": {
   "display_name": "Python 3",
   "language": "python",
   "name": "python3"
  },
  "language_info": {
   "codemirror_mode": {
    "name": "ipython",
    "version": 3
   },
   "file_extension": ".py",
   "mimetype": "text/x-python",
   "name": "python",
   "nbconvert_exporter": "python",
   "pygments_lexer": "ipython3",
   "version": "3.6.9"
  },
  "pycharm": {
   "stem_cell": {
    "cell_type": "raw",
    "metadata": {
     "collapsed": false
    },
    "source": []
   }
  }
 },
 "nbformat": 4,
 "nbformat_minor": 4
}
